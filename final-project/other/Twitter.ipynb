{
 "cells": [
  {
   "cell_type": "markdown",
   "metadata": {},
   "source": [
    "## Import libraries"
   ]
  },
  {
   "cell_type": "code",
   "execution_count": 6,
   "metadata": {},
   "outputs": [],
   "source": [
    "import numpy as np \n",
    "import pandas as pd  #for dataframe\n",
    "import tweepy as tw #for pulling tweets?\n",
    "from textblob import TextBlob #tokenizing tweets\n",
    "import matplotlib.pyplot as plt #for data visualization\n",
    "import pymongo #organize data (how is it different than pandas)"
   ]
  },
  {
   "cell_type": "markdown",
   "metadata": {},
   "source": [
    "## Authentication keys"
   ]
  },
  {
   "cell_type": "code",
   "execution_count": 7,
   "metadata": {},
   "outputs": [],
   "source": [
    "api_key = 'YrS7Zh6C5NMtUJ7oBIKOi6eet'\n",
    "api_secret_key = 'YbzW3Nv8JKS2KBZRxLddbtzooHlKw56kXr3OvLj4rB5VReJPHO'\n",
    "access_token = '540250745-abK3qRlEmiMTVKf4oq0x6gYhiW8Ch9sx7U3eEolC'\n",
    "access_token_key = 'W1IMfz5ktW9aDkFq1Vs4A3MFUUM98FdCgknNuZ2j5GqAX'\n",
    "\n",
    "auth = tw.OAuthHandler(api_key, api_secret_key)\n",
    "auth.set_access_token(access_token, access_token_key)\n",
    "api = tw.API(auth)"
   ]
  },
  {
   "cell_type": "code",
   "execution_count": 8,
   "metadata": {},
   "outputs": [
    {
     "name": "stdout",
     "output_type": "stream",
     "text": [
      "   polarity                                              tweet\n",
      "0 -0.155556  @merry123459 Justin Trudeau steps down as Prim...\n",
      "1 -0.050000  All talk and no action Justin, except for taki...\n",
      "2  0.000000  ..Help to stop the seal hunt in Canada! #SealD...\n",
      "3  0.000000  Justin Trudeau of Canada thanked mongoloid for...\n",
      "4  0.000000  Maybe @Communitech needs to hail-mary a \"stick...\n"
     ]
    },
    {
     "data": {
      "text/plain": [
       "(5, 2)"
      ]
     },
     "execution_count": 8,
     "metadata": {},
     "output_type": "execute_result"
    }
   ],
   "source": [
    "query = \"justin+trudeau -filter:retweets\"\n",
    "max_tweets = 200\n",
    "searched_tweets = [status for status in tw.Cursor(api.search, q=query).items(max_tweets)]\n",
    "\n",
    "searched_tweets = [] \n",
    "last_id = -1 \n",
    "\n",
    "while len(searched_tweets) < max_tweets:\n",
    "   count = max_tweets - len(searched_tweets)\n",
    "   try:\n",
    "       new_tweets = api.search(q=query, count=count, lang='en', max_id=str(last_id - 1))\n",
    "       if not new_tweets:\n",
    "           break\n",
    "       new_tweets_text = [tweet.text for tweet in new_tweets]\n",
    "       searched_tweets.extend(new_tweets_text)\n",
    "       last_id = new_tweets[-1].id\n",
    "   except tw.TweepError as e:\n",
    "       # depending on TweepError.code, one may want to retry or wait\n",
    "       # to keep things simple, we will give up on an error\n",
    "       break\n",
    "\n",
    "sentiment_objects = [TextBlob(tweet) for tweet in new_tweets_text]\n",
    "sentiment_values = [[tweet.sentiment.polarity, str(tweet)] for tweet in sentiment_objects]\n",
    "\n",
    "sentiment_df = pd.DataFrame(sentiment_values, columns=[\"polarity\", \"tweet\"])\n",
    "print(sentiment_df)\n",
    "sentiment_df.shape"
   ]
  },
  {
   "cell_type": "code",
   "execution_count": 9,
   "metadata": {},
   "outputs": [
    {
     "name": "stdout",
     "output_type": "stream",
     "text": [
      "   polarity                                              tweet\n",
      "0 -0.155556  @merry123459 Justin Trudeau steps down as Prim...\n",
      "1 -0.050000  All talk and no action Justin, except for taki...\n",
      "2  0.000000  ..Help to stop the seal hunt in Canada! #SealD...\n",
      "3  0.000000  Justin Trudeau of Canada thanked mongoloid for...\n",
      "4  0.000000  Maybe @Communitech needs to hail-mary a \"stick...\n"
     ]
    }
   ],
   "source": [
    "query_two = \"andrew+scheer -filter:retweets\"\n",
    "max_tweets = 30\n",
    "\n",
    "conservative = [status for status in tw.Cursor(api.search, q=query).items(max_tweets)]\n",
    "\n",
    "conservative = [] \n",
    "last_id = -1 \n",
    "\n",
    "while len(conservative) < max_tweets:\n",
    "   count = max_tweets - len(conservative)\n",
    "   try:\n",
    "       conservative_tweets = api.search(q=query_two, count=count, lang='en', max_id=str(last_id - 1))\n",
    "       if not conservative_tweets:\n",
    "           break\n",
    "       new_conservative_text = [tweet.text for tweet in new_tweets]\n",
    "       conservative.extend(new_tweets_text)\n",
    "       last_id = conservative_tweets[-1].id\n",
    "   except tweepy.TweepError as e:\n",
    "       # depending on TweepError.code, one may want to retry or wait\n",
    "       # to keep things simple, we will give up on an error\n",
    "       break\n",
    "\n",
    "sentiment_objects_two = [TextBlob(tweet) for tweet in new_conservative_text]\n",
    "sentiment_values_two = [[tweet.sentiment.polarity, str(tweet)] for tweet in sentiment_objects]\n",
    "\n",
    "sentiment_df_two = pd.DataFrame(sentiment_values_two, columns=[\"polarity\", \"tweet\"])\n",
    "print(sentiment_df_two)"
   ]
  },
  {
   "cell_type": "code",
   "execution_count": 11,
   "metadata": {},
   "outputs": [
    {
     "name": "stdout",
     "output_type": "stream",
     "text": [
      "                                       Searched Tweets\n",
      "0       I think the jews are voting for Justin Trudeau\n",
      "1    @iAmTheWatchman3 @LanaAshford1 JUSTIN TRUDEAU\\...\n",
      "2    @Betty32Boo @peoplespca The muslim brotherhood...\n",
      "3    @SuperCdn @JustinTrudeau The media attacks Tru...\n",
      "4    @_kill_evil @JustinTrudeau @realDonaldTrump As...\n",
      "5    @lindco22 @jkenney Do you promise not to build...\n",
      "6    Why does Justin Trudeau succumb to corporate p...\n",
      "7    @FairVoteCanada @justin_trudeau Didn't get the...\n",
      "8    Justin Trudeau be like Za Warudo Toki Wo Tomar...\n",
      "9    @BillB204 @perlmutations @realDonaldTrump I’m ...\n",
      "10   @punditclass No but Kim Campbell is a close se...\n",
      "11   Justin Trudeau | The Ineloquent Orator https:/...\n",
      "12   @RebusCornpone @IKantEvenToday Don't be quotin...\n",
      "13   @NikkiJoy17 @AndrewScheer You mean like Justin...\n",
      "14   Trouble in paradise: Justin Trudeau's rich fri...\n",
      "15   the year is 2479\\n\\nhumanity's interstellar em...\n",
      "16   Justin Trudeau | The Ineloquent Orator https:/...\n",
      "17   @CBCTheNational @RosieBarton @ChantalHbert @ac...\n",
      "18   Even The Star is looking at Justin Trudeau in ...\n",
      "19   @99freemind This is exactly why I struggle wit...\n",
      "20   As opioid crisis rages on, Justin Trudeau resi...\n",
      "21        how to tweet like justin b..  i mean Trudeau\n",
      "22   Justin Trudeau | The Ineloquent Orator https:/...\n",
      "23   @ERBofHistory Hey will you guys please do Rona...\n",
      "24   Justin Trudeau Losing His Mind as New Reports ...\n",
      "25   As adorable as Justin Trudeau is man deserves ...\n",
      "26   Funny how quick the RCMP is investigating Jaso...\n",
      "27   @IDF WOW!!! 🇮🇱💪 \\n\\nif that’s what @IDF do for...\n",
      "28   @mitchellvii @Trumpgirl1018 Sounds just like J...\n",
      "29                       @LionelMedia Justin Trudeau 🤡\n",
      "..                                                 ...\n",
      "170  @CTVNews Justin Trudeau pi$$ed on Trump's leg ...\n",
      "171  I will: Justin Trudeau's Journ-o-list. #Journa...\n",
      "172  It was a bad deal for Canada anyway and Justin...\n",
      "173  Help to stop the seal hunt in Canada! #SealDef...\n",
      "174  Justin Trudeau's \"fakeness and incompetence\" b...\n",
      "175  General Gowon then head of State of Nigeria 🇳🇬...\n",
      "176  @JackPosobiec Lol'd more when I saw Justin Tru...\n",
      "177  @censorwatcher @liberal_party I am thinking mo...\n",
      "178  How does Justin Trudeau have a chance of re-el...\n",
      "179  What does mila mulroony's father have to do wi...\n",
      "180  Tu Canadian journalist ho ke bhi Justin Trudea...\n",
      "181  @shivshukla992 @gsurya @akshaykumar He is cana...\n",
      "182  @cmusician @FairVoteCanada @justin_trudeau Per...\n",
      "183  General Gowon then head of State of Nigeria 🇳🇬...\n",
      "184   justin trudeau is like nightmare chelsea clinton\n",
      "185  @FairVoteCanada @justin_trudeau FPTP is the be...\n",
      "186  when i do my mayoral campaign for mayor i'm go...\n",
      "187  every politician is dumb as fuck because one h...\n",
      "188  . Help to stop the seal hunt in Canada! #SealD...\n",
      "189  Why didn't 'Canadian' Akshay Kumar meet 'his P...\n",
      "190  @kartik_vij1 @vikramchandra @politicalJunta @M...\n",
      "191  @JustinTrudeau Yes he is justin Trudeau I like...\n",
      "192                     @JackPosobiec Justin Trudeau 😂\n",
      "193  Justin Trudeau is celebrated while another tax...\n",
      "194  When discussion is going on about whether it’s...\n",
      "195  @merry123459 Justin Trudeau steps down as Prim...\n",
      "196  All talk and no action Justin, except for taki...\n",
      "197  ..Help to stop the seal hunt in Canada! #SealD...\n",
      "198  Justin Trudeau of Canada thanked mongoloid for...\n",
      "199  Maybe @Communitech needs to hail-mary a \"stick...\n",
      "\n",
      "[200 rows x 1 columns]\n"
     ]
    }
   ],
   "source": [
    "#making that beautiful table but still looking ugly AF\n",
    "\n",
    "df = pd.DataFrame({'Searched Tweets': searched_tweets}) #other things to add in table: polarity and setiment\n",
    "print (df) #print the data with all the other shit I don't want to see"
   ]
  },
  {
   "cell_type": "code",
   "execution_count": null,
   "metadata": {},
   "outputs": [],
   "source": []
  }
 ],
 "metadata": {
  "kernelspec": {
   "display_name": "Python 3",
   "language": "python",
   "name": "python3"
  },
  "language_info": {
   "codemirror_mode": {
    "name": "ipython",
    "version": 3
   },
   "file_extension": ".py",
   "mimetype": "text/x-python",
   "name": "python",
   "nbconvert_exporter": "python",
   "pygments_lexer": "ipython3",
   "version": "3.7.1"
  }
 },
 "nbformat": 4,
 "nbformat_minor": 2
}
