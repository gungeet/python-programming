{
 "cells": [
  {
   "cell_type": "code",
   "execution_count": 6,
   "metadata": {},
   "outputs": [],
   "source": [
    "import numpy as np \n",
    "import pandas as pd  #for dataframe\n",
    "import tweepy #for pulling tweets?\n",
    "from textblob import TextBlob #tokenizing tweets\n",
    "import matplotlib.pyplot as plt #for data visualization\n",
    "import pymongo #organize data (how is it different than pandas)\n",
    "import re"
   ]
  },
  {
   "cell_type": "code",
   "execution_count": 82,
   "metadata": {},
   "outputs": [],
   "source": [
    "api_key = 'YrS7Zh6C5NMtUJ7oBIKOi6eet'\n",
    "api_secret_key = 'YbzW3Nv8JKS2KBZRxLddbtzooHlKw56kXr3OvLj4rB5VReJPHO'\n",
    "access_token = '540250745-abK3qRlEmiMTVKf4oq0x6gYhiW8Ch9sx7U3eEolC'\n",
    "access_token_key = 'W1IMfz5ktW9aDkFq1Vs4A3MFUUM98FdCgknNuZ2j5GqAX'\n",
    "\n",
    "auth = tweepy.OAuthHandler(api_key, api_secret_key)\n",
    "auth.set_access_token(access_token, access_token_key)\n",
    "api = tweepy.API(auth)"
   ]
  },
  {
   "cell_type": "code",
   "execution_count": 83,
   "metadata": {},
   "outputs": [
    {
     "name": "stdout",
     "output_type": "stream",
     "text": [
      "    polarity                                              tweet\n",
      "0   0.500000  You can do what you have to do and sometimes y...\n",
      "1   0.050000  CameronAhmad Id say betrayed Canadians is an a...\n",
      "2   0.000000       Une publicit virulente contre Trudeau justin\n",
      "3   0.000000  Ottawa refuse de sengager verser une compensat...\n",
      "4   0.000000  Plus de prtenoms pour le PLC assure Justin Tru...\n",
      "5   0.000000  Legault demande des explications justin trudea...\n",
      "6   0.000000  Plus de 100000 votants illgaux dbusqus sur la ...\n",
      "7   0.000000  Le gouvernement Trudeau na pas rduit la lourde...\n",
      "8  -0.012500  Puigdemont refus au Canada honteuse absence de...\n",
      "9   0.000000  Kathleen Weil a servi de prtenom pour SNCLaval...\n",
      "10 -0.350000  Expert Justin Trudeau s French is nt bad Quebe...\n",
      "11  0.000000  Justin Trudeau encense la Chine en parlant au ...\n",
      "12  0.000000  Trudeau prise 2 Le Journal de Montral JUSTIN C...\n",
      "13  0.333333  Super Trudeau la rescousse Le Journal de Montr...\n",
      "14  0.000000  Justin qui se fait dire de sacrer son camp tan...\n",
      "15  0.000000                    Canadian justin Trudeau getthem\n",
      "16  0.250000  CBCPolitics Well justintrudeau is right about ...\n",
      "17  0.000000  CBCPolitics Who will Canadians believe The unf...\n",
      "18 -0.400000  mannyottawa Cricrifi Unneighbourly Not Canadia...\n",
      "19  0.000000  On lgitime la discrimination dit Justin Trudea...\n",
      "20  0.000000  Trudeau versus Legault Le Journal de Montral J...\n",
      "21  0.000000  Aga Khan Ottawa conteste le rexamen de la comm...\n",
      "22  0.625000  CP24 Is it just me or does he look remarkably ...\n"
     ]
    },
    {
     "data": {
      "text/plain": [
       "(23, 2)"
      ]
     },
     "execution_count": 83,
     "metadata": {},
     "output_type": "execute_result"
    }
   ],
   "source": [
    "'''def remove_url(txt):\n",
    "    \"\"\"Replace URLs found in a text string with nothing \n",
    "    (i.e. it will remove the URL from the string).\n",
    "\n",
    "    Parameters\n",
    "    ----------\n",
    "    txt : string\n",
    "        A text string that you want to parse and remove urls.\n",
    "\n",
    "    Returns\n",
    "    -------\n",
    "    The same txt string with url's removed.\n",
    "    \"\"\"\n",
    "\n",
    "    return \" \".join(re.sub(\"([^0-9A-Za-z \\t])|(\\w+:\\/\\/\\S+)\", \"\", txt).split())\n",
    "\n",
    "'''\n",
    "# Create a custom search term and define the number of tweets\n",
    "search_term = \"#justin+trudeau -filter:retweets\"\n",
    "\n",
    "tweets = tweepy.Cursor(api.search, q=search_term, count = 200, since='2019-01-01').items(1000)\n",
    "\n",
    "\n",
    "# Remove URLs\n",
    "tweets_no_urls = [remove_url(tweet.text) for tweet in tweets]\n",
    "\n",
    "# Create textblob objects of the tweets\n",
    "sentiment_objects = [TextBlob(tweet) for tweet in tweets_no_urls]\n",
    "\n",
    "# Create list of polarity valuesx and tweet text\n",
    "sentiment_values = [[tweet.sentiment.polarity, str(tweet)] for tweet in sentiment_objects]\n",
    "\n",
    "# Create dataframe containing the polarity value and tweet text\n",
    "sentiment_df = pd.DataFrame(sentiment_values, columns=[\"polarity\", \"tweet\"])\n",
    "\n",
    "print (sentiment_df)\n",
    "sentiment_df.shape\n"
   ]
  },
  {
   "cell_type": "code",
   "execution_count": 60,
   "metadata": {},
   "outputs": [
    {
     "name": "stdout",
     "output_type": "stream",
     "text": [
      "   polarity                                              tweet\n",
      "0     0.500  You can do what you have to do and sometimes y...\n",
      "1     0.050  CameronAhmad Id say betrayed Canadians is an a...\n",
      "2    -0.350  Expert Justin Trudeau s French is nt bad Quebe...\n",
      "3     0.250  CBCPolitics Well justintrudeau is right about ...\n",
      "4     0.000  CBCPolitics Who will Canadians believe The unf...\n",
      "5    -0.400  mannyottawa Cricrifi Unneighbourly Not Canadia...\n",
      "6     0.625  CP24 Is it just me or does he look remarkably ...\n"
     ]
    }
   ],
   "source": [
    "search_term_two = \"#andrew+scheer -filter:retweets\"\n",
    "max_tweets = 40\n",
    "\n",
    "tweets_cons = tweepy.Cursor(api.search,\n",
    "                   q=search_term_two,\n",
    "                   lang=\"en\").items(200)\n",
    "\n",
    "# Remove URLs\n",
    "tweets_no_urls_cons = [remove_url(tweet.text) for tweet in tweets_cons]\n",
    "\n",
    "# Create textblob objects of the tweets\n",
    "sentiment_objects_cons = [TextBlob(tweet_two) for tweet in tweets_no_urls_cons]\n",
    "\n",
    "# Create list of polarity valuesx and tweet text\n",
    "sentiment_values_cons = [[tweet.sentiment.polarity, str(tweet_two)] for tweet in sentiment_objects]\n",
    "\n",
    "# Create dataframe containing the polarity value and tweet text\n",
    "sentiment_df_cons = pd.DataFrame(sentiment_values_cons, columns=[\"polarity\", \"tweet\"])\n",
    "\n",
    "print (sentiment_df_cons)\n"
   ]
  },
  {
   "cell_type": "code",
   "execution_count": 38,
   "metadata": {},
   "outputs": [
    {
     "data": {
      "image/png": "[encoded data removed]",
      "text/plain": [
       "<Figure size 576x432 with 1 Axes>"
      ]
     },
     "metadata": {
      "needs_background": "light"
     },
     "output_type": "display_data"
    }
   ],
   "source": [
    "fig, ax = plt.subplots(figsize=(8, 6))\n",
    "\n",
    "# Plot histogram of the polarity values\n",
    "sentiment_df.hist(bins=[-1, -0.75, -0.5, -0.25, 0.25, 0.5, 0.75, 1],\n",
    "             ax=ax,\n",
    "             color=\"purple\")\n",
    "\n",
    "plt.title(\"Sentiments from Tweets on Climate Change\")\n",
    "plt.show()"
   ]
  },
  {
   "cell_type": "code",
   "execution_count": null,
   "metadata": {},
   "outputs": [],
   "source": []
  }
 ],
 "metadata": {
  "kernelspec": {
   "display_name": "Python 3",
   "language": "python",
   "name": "python3"
  },
  "language_info": {
   "codemirror_mode": {
    "name": "ipython",
    "version": 3
   },
   "file_extension": ".py",
   "mimetype": "text/x-python",
   "name": "python",
   "nbconvert_exporter": "python",
   "pygments_lexer": "ipython3",
   "version": "3.7.1"
  }
 },
 "nbformat": 4,
 "nbformat_minor": 2
}
