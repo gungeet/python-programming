{
 "cells": [
  {
   "cell_type": "code",
   "execution_count": 34,
   "metadata": {},
   "outputs": [],
   "source": [
    "from textblob import TextBlob\n",
    "import sys, tweepy\n",
    "import matplotlib as plt"
   ]
  },
  {
   "cell_type": "code",
   "execution_count": 35,
   "metadata": {},
   "outputs": [],
   "source": [
    "#function to calculate the percentage"
   ]
  },
  {
   "cell_type": "code",
   "execution_count": 81,
   "metadata": {},
   "outputs": [],
   "source": [
    "def percentage(part, whole):\n",
    "    return 100*float(part)/float(whole)"
   ]
  },
  {
   "cell_type": "code",
   "execution_count": 82,
   "metadata": {},
   "outputs": [
    {
     "name": "stdout",
     "output_type": "stream",
     "text": [
      "Enter keyword/hashtag to search about: trump\n",
      "Enter how many tweets to analyze: 200\n",
      "How people are reacting on trump by analyzing 200 tweets.\n",
      "Neutral\n"
     ]
    }
   ],
   "source": [
    "api_key = 'YrS7Zh6C5NMtUJ7oBIKOi6eet'\n",
    "api_secret_key = 'YbzW3Nv8JKS2KBZRxLddbtzooHlKw56kXr3OvLj4rB5VReJPHO'\n",
    "access_token = '540250745-abK3qRlEmiMTVKf4oq0x6gYhiW8Ch9sx7U3eEolC'\n",
    "access_token_key = 'W1IMfz5ktW9aDkFq1Vs4A3MFUUM98FdCgknNuZ2j5GqAX'\n",
    "\n",
    "#establish connection with API\n",
    "auth = tweepy.OAuthHandler(api_key, api_secret_key)\n",
    "auth.set_access_token(access_token, access_token_key)\n",
    "api = tweepy.API(auth)\n",
    "\n",
    "\n",
    "#which keyword is being searched\n",
    "searchterm = input(\"Enter keyword/hashtag to search about: \")\n",
    "\n",
    "#how many tweets user wants to analyze\n",
    "numofsearches = int(input(\"Enter how many tweets to analyze: \"))\n",
    "\n",
    "#creating arguments for the tweets\n",
    "tweets = tweepy.Cursor(api.search, q = searchterm, lang = 'English').items(numofsearches)\n",
    "\n",
    "positive = 0\n",
    "negative = 0\n",
    "neutral = 0\n",
    "polarity = 0\n",
    "\n",
    "for tweet in tweets:\n",
    "    analysis = TextBlob(tweet.text) #creates texts into tokens\n",
    "    polarity += analysis.sentiment.polarity\n",
    "    \n",
    "    if (analysis.sentiment.polarity == 0):\n",
    "        neutral =+ 1\n",
    "    elif (analysis.sentiment.polarity < 0.00):\n",
    "        negative =+ 1\n",
    "    elif (analysis.sentiment.polarity > 0.00):\n",
    "        positive =+ 1\n",
    "        \n",
    "positive = percentage(positive, numofsearches)\n",
    "neutral = percentage(neutral, numofsearches)\n",
    "negative = percentage(negative, numofsearches)\n",
    "\n",
    "positive = format(positive, '.2f')\n",
    "neutral = format(neutral, '.2f')\n",
    "negative = format(negative, '.2f')\n",
    "\n",
    "print('How people are reacting on ' + searchterm + ' by analyzing ' + str(numofsearches) + ' tweets.')\n",
    "\n",
    "#if (polarity == 0):\n",
    " #   print ('Neutral')\n",
    "if (polarity < 0):\n",
    "    print ('Negative')\n",
    "elif (polarity > 0):\n",
    "    print ('Positive')"
   ]
  },
  {
   "cell_type": "code",
   "execution_count": null,
   "metadata": {},
   "outputs": [],
   "source": []
  }
 ],
 "metadata": {
  "kernelspec": {
   "display_name": "Python 3",
   "language": "python",
   "name": "python3"
  }
 },
 "nbformat": 4,
 "nbformat_minor": 2
}
