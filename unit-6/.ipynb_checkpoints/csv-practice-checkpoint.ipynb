{
 "cells": [
  {
   "cell_type": "code",
   "execution_count": 1,
   "metadata": {},
   "outputs": [],
   "source": [
    "import pandas as pd\n",
    "import numpy as np"
   ]
  },
  {
   "cell_type": "code",
   "execution_count": 46,
   "metadata": {},
   "outputs": [],
   "source": [
    "data = pd.read_csv('Homicide.csv', sep = ',')"
   ]
  },
  {
   "cell_type": "code",
   "execution_count": 52,
   "metadata": {},
   "outputs": [
    {
     "data": {
      "text/html": [
       "<div>\n",
       "<style scoped>\n",
       "    .dataframe tbody tr th:only-of-type {\n",
       "        vertical-align: middle;\n",
       "    }\n",
       "\n",
       "    .dataframe tbody tr th {\n",
       "        vertical-align: top;\n",
       "    }\n",
       "\n",
       "    .dataframe thead th {\n",
       "        text-align: right;\n",
       "    }\n",
       "</style>\n",
       "<table border=\"1\" class=\"dataframe\">\n",
       "  <thead>\n",
       "    <tr style=\"text-align: right;\">\n",
       "      <th></th>\n",
       "      <th>X</th>\n",
       "      <th>Y</th>\n",
       "      <th>Index_</th>\n",
       "      <th>Event_Unique_ID</th>\n",
       "      <th>Occurrence_year</th>\n",
       "      <th>Division</th>\n",
       "      <th>Homicide_Type</th>\n",
       "      <th>Occurrence_Date</th>\n",
       "      <th>Hood_ID</th>\n",
       "      <th>Neighbourhood</th>\n",
       "      <th>Lat</th>\n",
       "      <th>Long</th>\n",
       "      <th>ObjectId</th>\n",
       "    </tr>\n",
       "  </thead>\n",
       "  <tbody>\n",
       "    <tr>\n",
       "      <th>0</th>\n",
       "      <td>-79.392853</td>\n",
       "      <td>43.685028</td>\n",
       "      <td>1</td>\n",
       "      <td>111878</td>\n",
       "      <td>2004</td>\n",
       "      <td>D53</td>\n",
       "      <td>Other</td>\n",
       "      <td>2004-01-03T05:00:00.000Z</td>\n",
       "      <td>98</td>\n",
       "      <td>Rosedale-Moore Park (98)</td>\n",
       "      <td>43.685028</td>\n",
       "      <td>-79.392853</td>\n",
       "      <td>1</td>\n",
       "    </tr>\n",
       "    <tr>\n",
       "      <th>1</th>\n",
       "      <td>-79.234962</td>\n",
       "      <td>43.781536</td>\n",
       "      <td>2</td>\n",
       "      <td>125755</td>\n",
       "      <td>2004</td>\n",
       "      <td>D42</td>\n",
       "      <td>Shooting</td>\n",
       "      <td>2004-01-08T05:00:00.000Z</td>\n",
       "      <td>137</td>\n",
       "      <td>Woburn (137)</td>\n",
       "      <td>43.781536</td>\n",
       "      <td>-79.234962</td>\n",
       "      <td>2</td>\n",
       "    </tr>\n",
       "    <tr>\n",
       "      <th>2</th>\n",
       "      <td>-79.206894</td>\n",
       "      <td>43.810860</td>\n",
       "      <td>3</td>\n",
       "      <td>136086</td>\n",
       "      <td>2004</td>\n",
       "      <td>D42</td>\n",
       "      <td>Shooting</td>\n",
       "      <td>2004-01-08T05:00:00.000Z</td>\n",
       "      <td>132</td>\n",
       "      <td>Malvern (132)</td>\n",
       "      <td>43.810860</td>\n",
       "      <td>-79.206894</td>\n",
       "      <td>3</td>\n",
       "    </tr>\n",
       "    <tr>\n",
       "      <th>3</th>\n",
       "      <td>-79.434403</td>\n",
       "      <td>43.670475</td>\n",
       "      <td>4</td>\n",
       "      <td>148623</td>\n",
       "      <td>2004</td>\n",
       "      <td>D13</td>\n",
       "      <td>Shooting</td>\n",
       "      <td>2004-01-25T05:00:00.000Z</td>\n",
       "      <td>93</td>\n",
       "      <td>Dovercourt-Wallace Emerson-Junction (93)</td>\n",
       "      <td>43.670475</td>\n",
       "      <td>-79.434403</td>\n",
       "      <td>4</td>\n",
       "    </tr>\n",
       "    <tr>\n",
       "      <th>4</th>\n",
       "      <td>-79.203865</td>\n",
       "      <td>43.823543</td>\n",
       "      <td>5</td>\n",
       "      <td>148619</td>\n",
       "      <td>2004</td>\n",
       "      <td>D42</td>\n",
       "      <td>Shooting</td>\n",
       "      <td>2004-01-25T05:00:00.000Z</td>\n",
       "      <td>131</td>\n",
       "      <td>Rouge (131)</td>\n",
       "      <td>43.823543</td>\n",
       "      <td>-79.203865</td>\n",
       "      <td>5</td>\n",
       "    </tr>\n",
       "  </tbody>\n",
       "</table>\n",
       "</div>"
      ],
      "text/plain": [
       "           X          Y  Index_ Event_Unique_ID  Occurrence_year Division  \\\n",
       "0 -79.392853  43.685028       1          111878             2004      D53   \n",
       "1 -79.234962  43.781536       2          125755             2004      D42   \n",
       "2 -79.206894  43.810860       3          136086             2004      D42   \n",
       "3 -79.434403  43.670475       4          148623             2004      D13   \n",
       "4 -79.203865  43.823543       5          148619             2004      D42   \n",
       "\n",
       "  Homicide_Type           Occurrence_Date  Hood_ID  \\\n",
       "0         Other  2004-01-03T05:00:00.000Z       98   \n",
       "1      Shooting  2004-01-08T05:00:00.000Z      137   \n",
       "2      Shooting  2004-01-08T05:00:00.000Z      132   \n",
       "3      Shooting  2004-01-25T05:00:00.000Z       93   \n",
       "4      Shooting  2004-01-25T05:00:00.000Z      131   \n",
       "\n",
       "                              Neighbourhood        Lat       Long  ObjectId  \n",
       "0                  Rosedale-Moore Park (98)  43.685028 -79.392853         1  \n",
       "1                              Woburn (137)  43.781536 -79.234962         2  \n",
       "2                             Malvern (132)  43.810860 -79.206894         3  \n",
       "3  Dovercourt-Wallace Emerson-Junction (93)  43.670475 -79.434403         4  \n",
       "4                               Rouge (131)  43.823543 -79.203865         5  "
      ]
     },
     "execution_count": 52,
     "metadata": {},
     "output_type": "execute_result"
    }
   ],
   "source": [
    "data.head() #shows first 5 rows"
   ]
  },
  {
   "cell_type": "code",
   "execution_count": 53,
   "metadata": {},
   "outputs": [
    {
     "data": {
      "text/html": [
       "<div>\n",
       "<style scoped>\n",
       "    .dataframe tbody tr th:only-of-type {\n",
       "        vertical-align: middle;\n",
       "    }\n",
       "\n",
       "    .dataframe tbody tr th {\n",
       "        vertical-align: top;\n",
       "    }\n",
       "\n",
       "    .dataframe thead th {\n",
       "        text-align: right;\n",
       "    }\n",
       "</style>\n",
       "<table border=\"1\" class=\"dataframe\">\n",
       "  <thead>\n",
       "    <tr style=\"text-align: right;\">\n",
       "      <th></th>\n",
       "      <th>X</th>\n",
       "      <th>Y</th>\n",
       "      <th>Index_</th>\n",
       "      <th>Event_Unique_ID</th>\n",
       "      <th>Occurrence_year</th>\n",
       "      <th>Division</th>\n",
       "      <th>Homicide_Type</th>\n",
       "      <th>Occurrence_Date</th>\n",
       "      <th>Hood_ID</th>\n",
       "      <th>Neighbourhood</th>\n",
       "      <th>Lat</th>\n",
       "      <th>Long</th>\n",
       "      <th>ObjectId</th>\n",
       "    </tr>\n",
       "  </thead>\n",
       "  <tbody>\n",
       "    <tr>\n",
       "      <th>1010</th>\n",
       "      <td>-79.374847</td>\n",
       "      <td>43.660656</td>\n",
       "      <td>1235</td>\n",
       "      <td>GO-20182242344</td>\n",
       "      <td>2018</td>\n",
       "      <td>D51</td>\n",
       "      <td>Stabbing</td>\n",
       "      <td>2018-12-06T05:00:00.000Z</td>\n",
       "      <td>73</td>\n",
       "      <td>Moss Park (73)</td>\n",
       "      <td>43.660656</td>\n",
       "      <td>-79.374847</td>\n",
       "      <td>1011</td>\n",
       "    </tr>\n",
       "    <tr>\n",
       "      <th>1011</th>\n",
       "      <td>-79.548676</td>\n",
       "      <td>43.701328</td>\n",
       "      <td>1236</td>\n",
       "      <td>GO-20182280579</td>\n",
       "      <td>2018</td>\n",
       "      <td>D23</td>\n",
       "      <td>Shooting</td>\n",
       "      <td>2018-12-12T05:00:00.000Z</td>\n",
       "      <td>6</td>\n",
       "      <td>Kingsview Village-The Westway (6)</td>\n",
       "      <td>43.701328</td>\n",
       "      <td>-79.548676</td>\n",
       "      <td>1012</td>\n",
       "    </tr>\n",
       "    <tr>\n",
       "      <th>1012</th>\n",
       "      <td>-79.517776</td>\n",
       "      <td>43.759018</td>\n",
       "      <td>1237</td>\n",
       "      <td>GO-20182315055</td>\n",
       "      <td>2018</td>\n",
       "      <td>D31</td>\n",
       "      <td>Shooting</td>\n",
       "      <td>2018-12-18T05:00:00.000Z</td>\n",
       "      <td>24</td>\n",
       "      <td>Black Creek (24)</td>\n",
       "      <td>43.759018</td>\n",
       "      <td>-79.517776</td>\n",
       "      <td>1013</td>\n",
       "    </tr>\n",
       "    <tr>\n",
       "      <th>1013</th>\n",
       "      <td>-79.397644</td>\n",
       "      <td>43.644955</td>\n",
       "      <td>1238</td>\n",
       "      <td>GO-20182320758</td>\n",
       "      <td>2018</td>\n",
       "      <td>D14</td>\n",
       "      <td>Shooting</td>\n",
       "      <td>2018-12-19T05:00:00.000Z</td>\n",
       "      <td>77</td>\n",
       "      <td>Waterfront Communities-The Island (77)</td>\n",
       "      <td>43.644955</td>\n",
       "      <td>-79.397644</td>\n",
       "      <td>1014</td>\n",
       "    </tr>\n",
       "    <tr>\n",
       "      <th>1014</th>\n",
       "      <td>-79.585831</td>\n",
       "      <td>43.750977</td>\n",
       "      <td>1240</td>\n",
       "      <td>GO-20182339244</td>\n",
       "      <td>2018</td>\n",
       "      <td>D23</td>\n",
       "      <td>Shooting</td>\n",
       "      <td>2018-12-21T05:00:00.000Z</td>\n",
       "      <td>2</td>\n",
       "      <td>Mount Olive-Silverstone-Jamestown (2)</td>\n",
       "      <td>43.750977</td>\n",
       "      <td>-79.585831</td>\n",
       "      <td>1015</td>\n",
       "    </tr>\n",
       "  </tbody>\n",
       "</table>\n",
       "</div>"
      ],
      "text/plain": [
       "              X          Y  Index_ Event_Unique_ID  Occurrence_year Division  \\\n",
       "1010 -79.374847  43.660656    1235  GO-20182242344             2018      D51   \n",
       "1011 -79.548676  43.701328    1236  GO-20182280579             2018      D23   \n",
       "1012 -79.517776  43.759018    1237  GO-20182315055             2018      D31   \n",
       "1013 -79.397644  43.644955    1238  GO-20182320758             2018      D14   \n",
       "1014 -79.585831  43.750977    1240  GO-20182339244             2018      D23   \n",
       "\n",
       "     Homicide_Type           Occurrence_Date  Hood_ID  \\\n",
       "1010      Stabbing  2018-12-06T05:00:00.000Z       73   \n",
       "1011      Shooting  2018-12-12T05:00:00.000Z        6   \n",
       "1012      Shooting  2018-12-18T05:00:00.000Z       24   \n",
       "1013      Shooting  2018-12-19T05:00:00.000Z       77   \n",
       "1014      Shooting  2018-12-21T05:00:00.000Z        2   \n",
       "\n",
       "                               Neighbourhood        Lat       Long  ObjectId  \n",
       "1010                          Moss Park (73)  43.660656 -79.374847      1011  \n",
       "1011       Kingsview Village-The Westway (6)  43.701328 -79.548676      1012  \n",
       "1012                        Black Creek (24)  43.759018 -79.517776      1013  \n",
       "1013  Waterfront Communities-The Island (77)  43.644955 -79.397644      1014  \n",
       "1014   Mount Olive-Silverstone-Jamestown (2)  43.750977 -79.585831      1015  "
      ]
     },
     "execution_count": 53,
     "metadata": {},
     "output_type": "execute_result"
    }
   ],
   "source": [
    "data.tail() # shows last 5 rows"
   ]
  },
  {
   "cell_type": "code",
   "execution_count": 48,
   "metadata": {},
   "outputs": [
    {
     "data": {
      "text/plain": [
       "(1015, 13)"
      ]
     },
     "execution_count": 48,
     "metadata": {},
     "output_type": "execute_result"
    }
   ],
   "source": [
    "# how many rows?\n",
    "data.shape #gives number of rows and columns"
   ]
  },
  {
   "cell_type": "code",
   "execution_count": 49,
   "metadata": {},
   "outputs": [
    {
     "data": {
      "text/plain": [
       "1015"
      ]
     },
     "execution_count": 49,
     "metadata": {},
     "output_type": "execute_result"
    }
   ],
   "source": [
    "data.shape[0] #gives number of rows"
   ]
  },
  {
   "cell_type": "code",
   "execution_count": 50,
   "metadata": {},
   "outputs": [
    {
     "data": {
      "text/plain": [
       "13"
      ]
     },
     "execution_count": 50,
     "metadata": {},
     "output_type": "execute_result"
    }
   ],
   "source": [
    "data.shape[1] #gives number of columns"
   ]
  },
  {
   "cell_type": "code",
   "execution_count": 51,
   "metadata": {},
   "outputs": [
    {
     "data": {
      "text/plain": [
       "Index(['X', 'Y', 'Index_', 'Event_Unique_ID', 'Occurrence_year', 'Division',\n",
       "       'Homicide_Type', 'Occurrence_Date', 'Hood_ID', 'Neighbourhood', 'Lat',\n",
       "       'Long', 'ObjectId'],\n",
       "      dtype='object')"
      ]
     },
     "execution_count": 51,
     "metadata": {},
     "output_type": "execute_result"
    }
   ],
   "source": [
    "data.columns"
   ]
  },
  {
   "cell_type": "code",
   "execution_count": 54,
   "metadata": {},
   "outputs": [
    {
     "data": {
      "text/plain": [
       "pandas.core.series.Series"
      ]
     },
     "execution_count": 54,
     "metadata": {},
     "output_type": "execute_result"
    }
   ],
   "source": [
    "type(data['Occurrence_year'])"
   ]
  },
  {
   "cell_type": "code",
   "execution_count": null,
   "metadata": {},
   "outputs": [],
   "source": []
  }
 ],
 "metadata": {
  "kernelspec": {
   "display_name": "Python 3",
   "language": "python",
   "name": "python3"
  },
  "language_info": {
   "codemirror_mode": {
    "name": "ipython",
    "version": 3
   },
   "file_extension": ".py",
   "mimetype": "text/x-python",
   "name": "python",
   "nbconvert_exporter": "python",
   "pygments_lexer": "ipython3",
   "version": "3.7.1"
  }
 },
 "nbformat": 4,
 "nbformat_minor": 2
}
